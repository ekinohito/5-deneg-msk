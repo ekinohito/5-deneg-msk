{
  "nbformat": 4,
  "nbformat_minor": 0,
  "metadata": {
    "colab": {
      "name": "moscowhack.ipynb",
      "provenance": []
    },
    "kernelspec": {
      "name": "python3",
      "display_name": "Python 3"
    },
    "language_info": {
      "name": "python"
    }
  },
  "cells": [
    {
      "cell_type": "markdown",
      "source": [
        "1. Поиск токенов в тексте: происходит с лемматизацией и прочими плюшками."
      ],
      "metadata": {
        "id": "g0ugcbDNuzD4"
      }
    },
    {
      "cell_type": "code",
      "source": [
        "pip install pymorphy2"
      ],
      "metadata": {
        "colab": {
          "base_uri": "https://localhost:8080/"
        },
        "id": "iRfG3gg5uPkc",
        "outputId": "a4265743-28b9-4cdf-f7c9-b624fe27a848"
      },
      "execution_count": null,
      "outputs": [
        {
          "output_type": "stream",
          "name": "stdout",
          "text": [
            "Looking in indexes: https://pypi.org/simple, https://us-python.pkg.dev/colab-wheels/public/simple/\n",
            "Collecting pymorphy2\n",
            "  Downloading pymorphy2-0.9.1-py3-none-any.whl (55 kB)\n",
            "\u001b[K     |████████████████████████████████| 55 kB 1.9 MB/s \n",
            "\u001b[?25hCollecting dawg-python>=0.7.1\n",
            "  Downloading DAWG_Python-0.7.2-py2.py3-none-any.whl (11 kB)\n",
            "Collecting pymorphy2-dicts-ru<3.0,>=2.4\n",
            "  Downloading pymorphy2_dicts_ru-2.4.417127.4579844-py2.py3-none-any.whl (8.2 MB)\n",
            "\u001b[K     |████████████████████████████████| 8.2 MB 9.0 MB/s \n",
            "\u001b[?25hRequirement already satisfied: docopt>=0.6 in /usr/local/lib/python3.7/dist-packages (from pymorphy2) (0.6.2)\n",
            "Installing collected packages: pymorphy2-dicts-ru, dawg-python, pymorphy2\n",
            "Successfully installed dawg-python-0.7.2 pymorphy2-0.9.1 pymorphy2-dicts-ru-2.4.417127.4579844\n"
          ]
        }
      ]
    },
    {
      "cell_type": "code",
      "source": [
        "import pymorphy2"
      ],
      "metadata": {
        "id": "5YQDdx0ptbwN"
      },
      "execution_count": null,
      "outputs": []
    },
    {
      "cell_type": "code",
      "execution_count": null,
      "metadata": {
        "id": "dpUXSGtrkVkM"
      },
      "outputs": [],
      "source": [
        "def tokenify(s, tokens):\n",
        "  morph = pymorphy2.MorphAnalyzer()\n",
        "  new_s = list()\n",
        "  for wrd in s.lower().split():\n",
        "    new_s.append(morph.parse(wrd)[0].normal_form)\n",
        "  # print(new_s)\n",
        "\n",
        "  ans = list()\n",
        "  for i in range(len(tokens)):\n",
        "    ans.append((int)(tokens[i] in new_s))\n",
        "  return ans"
      ]
    },
    {
      "cell_type": "code",
      "source": [
        "# пример использования\n",
        "s = 'Зовём волонтёров волонтёрить в приюте для бездомных'\n",
        "tokens = ['приют', 'собака', 'бездомный']"
      ],
      "metadata": {
        "id": "Ib19O8LktD-a"
      },
      "execution_count": null,
      "outputs": []
    },
    {
      "cell_type": "code",
      "source": [
        "tokenify(s, tokens)"
      ],
      "metadata": {
        "colab": {
          "base_uri": "https://localhost:8080/"
        },
        "id": "GXKAOEITtGF7",
        "outputId": "c1daf1be-5416-431f-8079-159956cd1435"
      },
      "execution_count": null,
      "outputs": [
        {
          "output_type": "execute_result",
          "data": {
            "text/plain": [
              "[1, 0, 1]"
            ]
          },
          "metadata": {},
          "execution_count": 17
        }
      ]
    },
    {
      "cell_type": "markdown",
      "source": [
        "2. Функция рейтинга"
      ],
      "metadata": {
        "id": "0NWGauFnwEmv"
      }
    },
    {
      "cell_type": "code",
      "source": [
        "import numpy as np"
      ],
      "metadata": {
        "id": "Ye-qEr3Exgpp"
      },
      "execution_count": null,
      "outputs": []
    },
    {
      "cell_type": "code",
      "source": [
        "def vaccancy_score(persCatRating, persCatExp, persCatInt, persTokensExp, vacCat, vacTokens):\n",
        "  # persCatRating - np.array, какой у человека рейтинг категорий от 0 до 5\n",
        "  # 1 категория == 1 индекс этого array'a\n",
        "  # этот рейтинг уже включает в себя оценку работодателя и оценку мероприятий самим человеком\n",
        "  # persCatExp - np.array, какой у человека опыт в этой категории\n",
        "  # на i-ой позиции - сколько мероприятий этой категории он посетил\n",
        "  # persCatInt - np.array, интересна ли категория человеку\n",
        "  # на i-ой позиции - 1 если интересно, 0 если нет (из анкеты)\n",
        "  # persTokensExp - np.array, сколько мероприятий с такими токенами человек посетил\n",
        "  # vacCat - np.array категорий вакансии\n",
        "  # vacTokens - np.array токенов вакансии\n",
        "  return (np.inner(persCatRating, vacCat) / np.sum(vacCat)) + \\\n",
        "  5 * (np.inner(persCatExp, vacCat) / np.sum(vacCat)) / np.max(persCatExp) + \\\n",
        "  5 * (np.inner(persCatInt, vacCat) / np.sum(vacCat)) + \\\n",
        "  5 * (np.inner(persTokensExp, vacTokens) / np.sum(vacTokens)) / np.max(persTokensExp)"
      ],
      "metadata": {
        "id": "7wD-n1_FufOA"
      },
      "execution_count": null,
      "outputs": []
    },
    {
      "cell_type": "code",
      "source": [
        "# пример использования:\n",
        "pCR = np.array([1, 2])\n",
        "pCE = np.array([0, 10])\n",
        "pCI = np.array([1, 0])\n",
        "pTE = np.array([0, 5, 10, 4])\n",
        "vC1 = np.array([1, 0])\n",
        "vT1 = np.array([1, 0, 0, 1])\n",
        "vC2 = np.array([0, 1])\n",
        "vT2 = np.array([0, 1, 1, 0])\n",
        "print(vaccancy_score(pCR, pCE, pCI, pTE, vC1, vT1))\n",
        "print(vaccancy_score(pCR, pCE, pCI, pTE, vC2, vT2))"
      ],
      "metadata": {
        "colab": {
          "base_uri": "https://localhost:8080/"
        },
        "id": "8C-oBmSpygze",
        "outputId": "3c4023be-4e8e-4bbd-f1c6-ec5d8af2349d"
      },
      "execution_count": null,
      "outputs": [
        {
          "output_type": "stream",
          "name": "stdout",
          "text": [
            "7.0\n",
            "10.75\n"
          ]
        }
      ]
    },
    {
      "cell_type": "code",
      "source": [
        ""
      ],
      "metadata": {
        "id": "Kcs8wP33zGOe"
      },
      "execution_count": null,
      "outputs": []
    }
  ]
}